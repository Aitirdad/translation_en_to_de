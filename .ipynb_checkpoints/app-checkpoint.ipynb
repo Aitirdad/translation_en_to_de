{
 "cells": [
  {
   "cell_type": "code",
   "execution_count": 1,
   "metadata": {},
   "outputs": [],
   "source": [
    "from transformers import pipeline\n",
    "import gradio as gr\n",
    "def translation (text):\n",
    "    translator = pipeline(\"translation_en_to_fr\")\n",
    "translat = gr.Interface(\n",
    "    fn=translation,\n",
    "    inputs=gr.Textbox(lines=2,placeholder=\"english\"),\n",
    "    outputs=gr.Textbox(lines=2,placeholder=\"duth\")\n",
    ")\n",
    "translat.launch(share=True)"
   ]
  },
  {
   "cell_type": "code",
   "execution_count": null,
   "metadata": {},
   "outputs": [],
   "source": []
  }
 ],
 "metadata": {
  "kernelspec": {
   "display_name": "Python 3 (ipykernel)",
   "language": "python",
   "name": "python3"
  },
  "language_info": {
   "codemirror_mode": {
    "name": "ipython",
    "version": 3
   },
   "file_extension": ".py",
   "mimetype": "text/x-python",
   "name": "python",
   "nbconvert_exporter": "python",
   "pygments_lexer": "ipython3",
   "version": "3.9.0rc2"
  }
 },
 "nbformat": 4,
 "nbformat_minor": 2
}
